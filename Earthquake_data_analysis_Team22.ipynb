{
 "cells": [
  {
   "cell_type": "markdown",
   "metadata": {},
   "source": [
    "# Analyze eatrhquake data \n",
    "\n",
    "The notebook helps explore and analyze earthquake data. This includes loading data in `pandas` data frame and displaying graphs using `matplotlib` library. We'll go through below steps: \n",
    "\n",
    "## Table of contents\n",
    "1. [Get data](#data_set)\n",
    "\n",
    "2. [Load data](#load_data)\n",
    "\n",
    "3. [Access data](#access_data)\n",
    "\n",
    "4. [Explore data](#explore_data)\n",
    "\n",
    "5. [Plot the results](#plot_data)"
   ]
  },
  {
   "cell_type": "markdown",
   "metadata": {},
   "source": [
    "<a id=\"data_set\"></a> \n",
    "## 1. Get data\n",
    "In this notebook, we will explore and analyze earthquake data from all over the world when earchwuakes were noted on a Richter scale of 2.5 or higer.\n",
    "\n",
    "The raw earthquake data set is from [USGS](http://earthquake.usgs.gov/earthquakes/search/), a website for which provides earthquake data for analyses.\n",
    "\n",
    "To get the earthquake data set:\n",
    "1. Click [USGS](http://earthquake.usgs.gov/earthquakes/search/).   \n",
    "2. Select Magnitude, date and Geographic Region details.\n",
    "3. Hit the Search buttn to save the CSV to your machine.\n",
    "\n"
   ]
  },
  {
   "cell_type": "markdown",
   "metadata": {},
   "source": [
    "<a id=\"load_data\"></a>\n",
    "## 2. Load data\n",
    "You can add the CSV file that you downloaded to this notebook by dragging the file to the **Data Source** pane in the notebook **Palette** in the notebook. \n",
    "The data file is listed on the **Data Source** pane and is saved in the Object Storage instance associated with your Analytics for Apache Spark service.\n",
    "The progress bar below the file in the **Data Source** panel indicates the status of the load process. In the next step, you will learn how to access files in Object Storage."
   ]
  },
  {
   "cell_type": "markdown",
   "metadata": {},
   "source": [
    "<a id=\"access_data\"></a> \n",
    "## 3. Access data \n",
    "\n",
    "**[pandas](http://pandas.pydata.org/)** is a useful Python package for managing structured data.  The two primary data structures of pandas are [`Series`](http://pandas-docs.github.io/pandas-docs-travis/dsintro.html#series) (1-dimensional) and [`DataFrame`](http://pandas-docs.github.io/pandas-docs-travis/dsintro.html#dataframe) (2-dimensional).\n",
    "\n",
    "In the following steps, you will load the `eq.csv` file into a DataFrame in memory.\n",
    "\n",
    "To run code cells in a notebook, click Run Cell (**&#9658;**) in the notebook toolbar.  While the code in the cell is running, a `[*]` appears next to the cell. After the code has run, the `[*]` is replaced by a number indicating that the code cell is the *N*th cell to run in the notebook."
   ]
  },
  {
   "cell_type": "code",
   "execution_count": 1,
   "metadata": {
    "collapsed": true
   },
   "outputs": [],
   "source": [
    "import requests, StringIO, pandas as pd, json, re"
   ]
  },
  {
   "cell_type": "markdown",
   "metadata": {},
   "source": [
    "###  Access Object Storage\n",
    "\n",
    "Because the `eq.csv` file is located in Object Storage, you need to define a helper function to access the data file that you loaded. Run the following cell to define the method `get_file_content()`:"
   ]
  },
  {
   "cell_type": "code",
   "execution_count": 2,
   "metadata": {
    "collapsed": true
   },
   "outputs": [],
   "source": [
    "def get_file_content(credentials):\n",
    "    \"\"\"For given credentials, this functions returns a StringIO object containing the file content.\"\"\"\n",
    "    \n",
    "    url1 = ''.join([credentials['auth_url'], '/v3/auth/tokens'])\n",
    "    data = {'auth': {'identity': {'methods': ['password'],\n",
    "            'password': {'user': {'name': credentials['username'],'domain': {'id': credentials['domain_id']},\n",
    "            'password': credentials['password']}}}}}\n",
    "    headers1 = {'Content-Type': 'application/json'}\n",
    "    resp1 = requests.post(url=url1, data=json.dumps(data), headers=headers1)\n",
    "    resp1_body = resp1.json()    \n",
    "    for e1 in resp1_body['token']['catalog']:\n",
    "        if(e1['type']=='object-store'):\n",
    "            for e2 in e1['endpoints']:\n",
    "                if(e2['interface']=='public'and e2['region']==credentials['region']):\n",
    "                    url2 = ''.join([e2['url'],'/', credentials['container'], '/', credentials['filename']])\n",
    "    s_subject_token = resp1.headers['x-subject-token']\n",
    "    headers2 = {'X-Auth-Token': s_subject_token, 'accept': 'application/json'}\n",
    "    resp2 = requests.get(url=url2, headers=headers2)\n",
    "    return StringIO.StringIO(resp2.content)"
   ]
  },
  {
   "cell_type": "markdown",
   "metadata": {},
   "source": [
    "### Insert data source credentials\n",
    "\n",
    "To add the credentials to access the `precipitation.csv` file which is stored in Object Storage, click the next code cell and select the `Insert to code` function below the data file in the **Data Source** pane in the notebook palette.\n",
    "\n",
    "The credentials for accessing the `precipitation.csv` file are added to the cell as a Python dictionary. With these credentials, you can use the helper function to load the data file into a `pandas.DataFrame`. \n",
    "\n",
    "**Note**: When you select the `Insert to code` function, a code cell with a dictionary is created for you.  Adjust the credentials in the Python dictionary to correspond with the credentials inserted by the `Insert to code` function and run the dictionary code cell. The access credentials to the Object Storage instance in the dictionary are provided for convenience for later usage. "
   ]
  },
  {
   "cell_type": "code",
   "execution_count": 3,
   "metadata": {
    "collapsed": true
   },
   "outputs": [],
   "source": [
    "credentials_2 = {\n",
    "  'auth_url':'https://identity.open.softlayer.com',\n",
    "  'project':'object_storage_41f1070d_fa61_404e_b265_7d781be12baa',\n",
    "  'project_id':'78a47228e2b4426fbea2b45d8b8aa251',\n",
    "  'region':'dallas',\n",
    "  'user_id':'22bc4cbc5f944fc8a2b2a923c3d2ecf1',\n",
    "  'domain_id':'87c803acc1ec4e2b9bdd3ebdd1985070',\n",
    "  'domain_name':'1137929',\n",
    "  'username':'admin_d383b654798c1d12cc25831aa441deafb53932ad',\n",
    "  'password':\"\"\"Tc=3I3lBPngASO~T\"\"\",\n",
    "  'filename':'eq.csv',\n",
    "  'container':'notebooks',\n",
    "  'tenantId':'sd94-1c59561b715ce4-09a5d9fc31f5'\n",
    "}"
   ]
  },
  {
   "cell_type": "markdown",
   "metadata": {},
   "source": [
    "### Load data into `pandas DataFrame`\n",
    "\n",
    "Run the next cell to load the data into a pandas DataFrame: "
   ]
  },
  {
   "cell_type": "code",
   "execution_count": 4,
   "metadata": {
    "collapsed": false
   },
   "outputs": [],
   "source": [
    "content_string = get_file_content(credentials_2)\n",
    "eq_df = pd.read_csv(content_string)"
   ]
  },
  {
   "cell_type": "markdown",
   "metadata": {},
   "source": [
    "<a id=\"explore_data\"></a> \n",
    "## 4. Explore data\n",
    "\n",
    "Now that your data is in memory, you can begin to explore and manipulate it.\n",
    "\n",
    "Show the first five and the last five rows of the data by using the `head()` and `tail()` methods.  Run each code cell:"
   ]
  },
  {
   "cell_type": "code",
   "execution_count": 5,
   "metadata": {
    "collapsed": false
   },
   "outputs": [
    {
     "data": {
      "text/html": [
       "<div>\n",
       "<table border=\"1\" class=\"dataframe\">\n",
       "  <thead>\n",
       "    <tr style=\"text-align: right;\">\n",
       "      <th></th>\n",
       "      <th>time</th>\n",
       "      <th>latitude</th>\n",
       "      <th>longitude</th>\n",
       "      <th>depth</th>\n",
       "      <th>mag</th>\n",
       "      <th>magType</th>\n",
       "      <th>nst</th>\n",
       "      <th>gap</th>\n",
       "      <th>dmin</th>\n",
       "      <th>rms</th>\n",
       "      <th>...</th>\n",
       "      <th>updated</th>\n",
       "      <th>place</th>\n",
       "      <th>type</th>\n",
       "      <th>horizontalError</th>\n",
       "      <th>depthError</th>\n",
       "      <th>magError</th>\n",
       "      <th>magNst</th>\n",
       "      <th>status</th>\n",
       "      <th>locationSource</th>\n",
       "      <th>magSource</th>\n",
       "    </tr>\n",
       "  </thead>\n",
       "  <tbody>\n",
       "    <tr>\n",
       "      <th>0</th>\n",
       "      <td>2016-10-12T17:55:00.830Z</td>\n",
       "      <td>19.1670</td>\n",
       "      <td>-155.537994</td>\n",
       "      <td>0.65</td>\n",
       "      <td>2.65</td>\n",
       "      <td>ml</td>\n",
       "      <td>52</td>\n",
       "      <td>90.0</td>\n",
       "      <td>0.072650</td>\n",
       "      <td>0.34</td>\n",
       "      <td>...</td>\n",
       "      <td>2016-10-12T18:00:43.100Z</td>\n",
       "      <td>7km SW of Pahala, Hawaii</td>\n",
       "      <td>earthquake</td>\n",
       "      <td>0.43</td>\n",
       "      <td>0.21</td>\n",
       "      <td>0.230</td>\n",
       "      <td>12</td>\n",
       "      <td>automatic</td>\n",
       "      <td>hv</td>\n",
       "      <td>hv</td>\n",
       "    </tr>\n",
       "    <tr>\n",
       "      <th>1</th>\n",
       "      <td>2016-10-12T14:11:21.000Z</td>\n",
       "      <td>63.5892</td>\n",
       "      <td>-147.704400</td>\n",
       "      <td>1.40</td>\n",
       "      <td>3.00</td>\n",
       "      <td>ml</td>\n",
       "      <td>NaN</td>\n",
       "      <td>NaN</td>\n",
       "      <td>NaN</td>\n",
       "      <td>0.82</td>\n",
       "      <td>...</td>\n",
       "      <td>2016-10-12T15:08:36.810Z</td>\n",
       "      <td>65km ENE of Cantwell, Alaska</td>\n",
       "      <td>earthquake</td>\n",
       "      <td>0.30</td>\n",
       "      <td>0.30</td>\n",
       "      <td>NaN</td>\n",
       "      <td>NaN</td>\n",
       "      <td>automatic</td>\n",
       "      <td>ak</td>\n",
       "      <td>ak</td>\n",
       "    </tr>\n",
       "    <tr>\n",
       "      <th>2</th>\n",
       "      <td>2016-10-12T10:39:23.000Z</td>\n",
       "      <td>18.9745</td>\n",
       "      <td>-64.438500</td>\n",
       "      <td>14.00</td>\n",
       "      <td>2.60</td>\n",
       "      <td>Mb</td>\n",
       "      <td>6</td>\n",
       "      <td>316.8</td>\n",
       "      <td>0.579413</td>\n",
       "      <td>0.18</td>\n",
       "      <td>...</td>\n",
       "      <td>2016-10-12T12:29:46.735Z</td>\n",
       "      <td>64km NNE of Road Town, British Virgin Islands</td>\n",
       "      <td>earthquake</td>\n",
       "      <td>2.00</td>\n",
       "      <td>2.50</td>\n",
       "      <td>0.000</td>\n",
       "      <td>5</td>\n",
       "      <td>reviewed</td>\n",
       "      <td>pr</td>\n",
       "      <td>pr</td>\n",
       "    </tr>\n",
       "    <tr>\n",
       "      <th>3</th>\n",
       "      <td>2016-10-12T10:39:15.770Z</td>\n",
       "      <td>10.7260</td>\n",
       "      <td>144.775200</td>\n",
       "      <td>21.06</td>\n",
       "      <td>5.10</td>\n",
       "      <td>mb</td>\n",
       "      <td>NaN</td>\n",
       "      <td>50.0</td>\n",
       "      <td>2.847000</td>\n",
       "      <td>0.99</td>\n",
       "      <td>...</td>\n",
       "      <td>2016-10-12T10:55:58.040Z</td>\n",
       "      <td>238km N of Faraulep, Micronesia</td>\n",
       "      <td>earthquake</td>\n",
       "      <td>6.40</td>\n",
       "      <td>5.70</td>\n",
       "      <td>0.059</td>\n",
       "      <td>92</td>\n",
       "      <td>reviewed</td>\n",
       "      <td>us</td>\n",
       "      <td>us</td>\n",
       "    </tr>\n",
       "    <tr>\n",
       "      <th>4</th>\n",
       "      <td>2016-10-12T08:24:47.120Z</td>\n",
       "      <td>51.3739</td>\n",
       "      <td>-177.535800</td>\n",
       "      <td>54.77</td>\n",
       "      <td>4.30</td>\n",
       "      <td>mb</td>\n",
       "      <td>NaN</td>\n",
       "      <td>188.0</td>\n",
       "      <td>0.535000</td>\n",
       "      <td>1.21</td>\n",
       "      <td>...</td>\n",
       "      <td>2016-10-12T08:42:59.040Z</td>\n",
       "      <td>70km SE of Tanaga Volcano, Alaska</td>\n",
       "      <td>earthquake</td>\n",
       "      <td>8.40</td>\n",
       "      <td>6.10</td>\n",
       "      <td>0.066</td>\n",
       "      <td>66</td>\n",
       "      <td>reviewed</td>\n",
       "      <td>us</td>\n",
       "      <td>us</td>\n",
       "    </tr>\n",
       "  </tbody>\n",
       "</table>\n",
       "<p>5 rows × 22 columns</p>\n",
       "</div>"
      ],
      "text/plain": [
       "                       time  latitude   longitude  depth   mag magType  nst  \\\n",
       "0  2016-10-12T17:55:00.830Z   19.1670 -155.537994   0.65  2.65      ml   52   \n",
       "1  2016-10-12T14:11:21.000Z   63.5892 -147.704400   1.40  3.00      ml  NaN   \n",
       "2  2016-10-12T10:39:23.000Z   18.9745  -64.438500  14.00  2.60      Mb    6   \n",
       "3  2016-10-12T10:39:15.770Z   10.7260  144.775200  21.06  5.10      mb  NaN   \n",
       "4  2016-10-12T08:24:47.120Z   51.3739 -177.535800  54.77  4.30      mb  NaN   \n",
       "\n",
       "     gap      dmin   rms    ...                      updated  \\\n",
       "0   90.0  0.072650  0.34    ...     2016-10-12T18:00:43.100Z   \n",
       "1    NaN       NaN  0.82    ...     2016-10-12T15:08:36.810Z   \n",
       "2  316.8  0.579413  0.18    ...     2016-10-12T12:29:46.735Z   \n",
       "3   50.0  2.847000  0.99    ...     2016-10-12T10:55:58.040Z   \n",
       "4  188.0  0.535000  1.21    ...     2016-10-12T08:42:59.040Z   \n",
       "\n",
       "                                           place        type horizontalError  \\\n",
       "0                       7km SW of Pahala, Hawaii  earthquake            0.43   \n",
       "1                   65km ENE of Cantwell, Alaska  earthquake            0.30   \n",
       "2  64km NNE of Road Town, British Virgin Islands  earthquake            2.00   \n",
       "3                238km N of Faraulep, Micronesia  earthquake            6.40   \n",
       "4              70km SE of Tanaga Volcano, Alaska  earthquake            8.40   \n",
       "\n",
       "  depthError  magError  magNst     status  locationSource magSource  \n",
       "0       0.21     0.230      12  automatic              hv        hv  \n",
       "1       0.30       NaN     NaN  automatic              ak        ak  \n",
       "2       2.50     0.000       5   reviewed              pr        pr  \n",
       "3       5.70     0.059      92   reviewed              us        us  \n",
       "4       6.10     0.066      66   reviewed              us        us  \n",
       "\n",
       "[5 rows x 22 columns]"
      ]
     },
     "execution_count": 5,
     "metadata": {},
     "output_type": "execute_result"
    }
   ],
   "source": [
    "eq_df.head(5)"
   ]
  },
  {
   "cell_type": "code",
   "execution_count": 6,
   "metadata": {
    "collapsed": false,
    "scrolled": true
   },
   "outputs": [
    {
     "data": {
      "text/html": [
       "<div>\n",
       "<table border=\"1\" class=\"dataframe\">\n",
       "  <thead>\n",
       "    <tr style=\"text-align: right;\">\n",
       "      <th></th>\n",
       "      <th>time</th>\n",
       "      <th>latitude</th>\n",
       "      <th>longitude</th>\n",
       "      <th>depth</th>\n",
       "      <th>mag</th>\n",
       "      <th>magType</th>\n",
       "      <th>nst</th>\n",
       "      <th>gap</th>\n",
       "      <th>dmin</th>\n",
       "      <th>rms</th>\n",
       "      <th>...</th>\n",
       "      <th>updated</th>\n",
       "      <th>place</th>\n",
       "      <th>type</th>\n",
       "      <th>horizontalError</th>\n",
       "      <th>depthError</th>\n",
       "      <th>magError</th>\n",
       "      <th>magNst</th>\n",
       "      <th>status</th>\n",
       "      <th>locationSource</th>\n",
       "      <th>magSource</th>\n",
       "    </tr>\n",
       "  </thead>\n",
       "  <tbody>\n",
       "    <tr>\n",
       "      <th>1231</th>\n",
       "      <td>2016-09-13T05:54:03.200Z</td>\n",
       "      <td>38.609833</td>\n",
       "      <td>-112.563667</td>\n",
       "      <td>4.11</td>\n",
       "      <td>2.6</td>\n",
       "      <td>ml</td>\n",
       "      <td>24</td>\n",
       "      <td>61</td>\n",
       "      <td>0.09125</td>\n",
       "      <td>0.17</td>\n",
       "      <td>...</td>\n",
       "      <td>2016-09-13T15:45:54.210Z</td>\n",
       "      <td>37km N of Beaver, Utah</td>\n",
       "      <td>earthquake</td>\n",
       "      <td>0.47</td>\n",
       "      <td>1.39</td>\n",
       "      <td>0.173</td>\n",
       "      <td>18</td>\n",
       "      <td>reviewed</td>\n",
       "      <td>uu</td>\n",
       "      <td>uu</td>\n",
       "    </tr>\n",
       "    <tr>\n",
       "      <th>1232</th>\n",
       "      <td>2016-09-13T02:15:21.380Z</td>\n",
       "      <td>36.246500</td>\n",
       "      <td>-98.423800</td>\n",
       "      <td>5.00</td>\n",
       "      <td>3.4</td>\n",
       "      <td>mb_lg</td>\n",
       "      <td>NaN</td>\n",
       "      <td>44</td>\n",
       "      <td>0.24000</td>\n",
       "      <td>0.66</td>\n",
       "      <td>...</td>\n",
       "      <td>2016-09-13T16:10:28.205Z</td>\n",
       "      <td>5km ESE of Fairview, Oklahoma</td>\n",
       "      <td>earthquake</td>\n",
       "      <td>0.90</td>\n",
       "      <td>2.00</td>\n",
       "      <td>0.124</td>\n",
       "      <td>17</td>\n",
       "      <td>reviewed</td>\n",
       "      <td>us</td>\n",
       "      <td>us</td>\n",
       "    </tr>\n",
       "    <tr>\n",
       "      <th>1233</th>\n",
       "      <td>2016-09-13T02:05:48.280Z</td>\n",
       "      <td>36.240500</td>\n",
       "      <td>-98.432200</td>\n",
       "      <td>5.00</td>\n",
       "      <td>3.6</td>\n",
       "      <td>mb_lg</td>\n",
       "      <td>NaN</td>\n",
       "      <td>44</td>\n",
       "      <td>0.23700</td>\n",
       "      <td>0.56</td>\n",
       "      <td>...</td>\n",
       "      <td>2016-09-13T16:12:09.500Z</td>\n",
       "      <td>5km SE of Fairview, Oklahoma</td>\n",
       "      <td>earthquake</td>\n",
       "      <td>1.30</td>\n",
       "      <td>1.00</td>\n",
       "      <td>0.052</td>\n",
       "      <td>96</td>\n",
       "      <td>reviewed</td>\n",
       "      <td>us</td>\n",
       "      <td>us</td>\n",
       "    </tr>\n",
       "    <tr>\n",
       "      <th>1234</th>\n",
       "      <td>2016-09-13T00:07:21.950Z</td>\n",
       "      <td>-28.756400</td>\n",
       "      <td>61.406900</td>\n",
       "      <td>10.00</td>\n",
       "      <td>4.3</td>\n",
       "      <td>mb</td>\n",
       "      <td>NaN</td>\n",
       "      <td>172</td>\n",
       "      <td>9.13400</td>\n",
       "      <td>0.30</td>\n",
       "      <td>...</td>\n",
       "      <td>2016-10-02T02:43:01.040Z</td>\n",
       "      <td>Southwest Indian Ridge</td>\n",
       "      <td>earthquake</td>\n",
       "      <td>15.00</td>\n",
       "      <td>2.00</td>\n",
       "      <td>0.267</td>\n",
       "      <td>4</td>\n",
       "      <td>reviewed</td>\n",
       "      <td>us</td>\n",
       "      <td>us</td>\n",
       "    </tr>\n",
       "    <tr>\n",
       "      <th>1235</th>\n",
       "      <td>2016-09-13T00:02:19.580Z</td>\n",
       "      <td>-17.844000</td>\n",
       "      <td>-177.883700</td>\n",
       "      <td>601.88</td>\n",
       "      <td>4.0</td>\n",
       "      <td>mb</td>\n",
       "      <td>NaN</td>\n",
       "      <td>106</td>\n",
       "      <td>3.87200</td>\n",
       "      <td>0.63</td>\n",
       "      <td>...</td>\n",
       "      <td>2016-10-02T02:25:51.040Z</td>\n",
       "      <td>Fiji region</td>\n",
       "      <td>earthquake</td>\n",
       "      <td>15.10</td>\n",
       "      <td>9.60</td>\n",
       "      <td>0.134</td>\n",
       "      <td>15</td>\n",
       "      <td>reviewed</td>\n",
       "      <td>us</td>\n",
       "      <td>us</td>\n",
       "    </tr>\n",
       "  </tbody>\n",
       "</table>\n",
       "<p>5 rows × 22 columns</p>\n",
       "</div>"
      ],
      "text/plain": [
       "                          time   latitude   longitude   depth  mag magType  \\\n",
       "1231  2016-09-13T05:54:03.200Z  38.609833 -112.563667    4.11  2.6      ml   \n",
       "1232  2016-09-13T02:15:21.380Z  36.246500  -98.423800    5.00  3.4   mb_lg   \n",
       "1233  2016-09-13T02:05:48.280Z  36.240500  -98.432200    5.00  3.6   mb_lg   \n",
       "1234  2016-09-13T00:07:21.950Z -28.756400   61.406900   10.00  4.3      mb   \n",
       "1235  2016-09-13T00:02:19.580Z -17.844000 -177.883700  601.88  4.0      mb   \n",
       "\n",
       "      nst  gap     dmin   rms    ...                      updated  \\\n",
       "1231   24   61  0.09125  0.17    ...     2016-09-13T15:45:54.210Z   \n",
       "1232  NaN   44  0.24000  0.66    ...     2016-09-13T16:10:28.205Z   \n",
       "1233  NaN   44  0.23700  0.56    ...     2016-09-13T16:12:09.500Z   \n",
       "1234  NaN  172  9.13400  0.30    ...     2016-10-02T02:43:01.040Z   \n",
       "1235  NaN  106  3.87200  0.63    ...     2016-10-02T02:25:51.040Z   \n",
       "\n",
       "                              place        type horizontalError depthError  \\\n",
       "1231         37km N of Beaver, Utah  earthquake            0.47       1.39   \n",
       "1232  5km ESE of Fairview, Oklahoma  earthquake            0.90       2.00   \n",
       "1233   5km SE of Fairview, Oklahoma  earthquake            1.30       1.00   \n",
       "1234         Southwest Indian Ridge  earthquake           15.00       2.00   \n",
       "1235                    Fiji region  earthquake           15.10       9.60   \n",
       "\n",
       "      magError  magNst    status  locationSource magSource  \n",
       "1231     0.173      18  reviewed              uu        uu  \n",
       "1232     0.124      17  reviewed              us        us  \n",
       "1233     0.052      96  reviewed              us        us  \n",
       "1234     0.267       4  reviewed              us        us  \n",
       "1235     0.134      15  reviewed              us        us  \n",
       "\n",
       "[5 rows x 22 columns]"
      ]
     },
     "execution_count": 6,
     "metadata": {},
     "output_type": "execute_result"
    }
   ],
   "source": [
    "eq_df.tail(5)"
   ]
  },
  {
   "cell_type": "markdown",
   "metadata": {},
   "source": [
    "Each row in the table lists:\n",
    "\n",
    "* Earthquake time \n",
    "* Type of earthquake, magnitude, depth, area, and other details.\n",
    "\n",
    "By using the `DataFrame` API, we can list all the magnitude types"
   ]
  },
  {
   "cell_type": "code",
   "execution_count": 7,
   "metadata": {
    "collapsed": false,
    "scrolled": true
   },
   "outputs": [
    {
     "data": {
      "text/plain": [
       "array(['ml', 'ml', 'Mb', ..., 'mb_lg', 'mb', 'mb'], dtype=object)"
      ]
     },
     "execution_count": 7,
     "metadata": {},
     "output_type": "execute_result"
    }
   ],
   "source": [
    "eq_df['magType'].values"
   ]
  },
  {
   "cell_type": "markdown",
   "metadata": {},
   "source": [
    "We can quickly analyse data using pivot table utility. Here, we'll group and count the earthquakes as per magnitude type."
   ]
  },
  {
   "cell_type": "code",
   "execution_count": 8,
   "metadata": {
    "collapsed": false,
    "scrolled": true
   },
   "outputs": [
    {
     "data": {
      "text/plain": [
       "magType\n",
       "Mb         1\n",
       "Md       148\n",
       "mb       531\n",
       "mb_lg     65\n",
       "md        19\n",
       "ml       410\n",
       "ms_20      1\n",
       "mw        10\n",
       "mwb        6\n",
       "mwp        4\n",
       "mwr       26\n",
       "mww       15\n",
       "Name: time, dtype: int64"
      ]
     },
     "execution_count": 8,
     "metadata": {},
     "output_type": "execute_result"
    }
   ],
   "source": [
    "eq_df.pivot_table(index=\"magType\", aggfunc=len, values=\"time\")"
   ]
  },
  {
   "cell_type": "code",
   "execution_count": 9,
   "metadata": {
    "collapsed": false
   },
   "outputs": [
    {
     "data": {
      "text/html": [
       "<div>\n",
       "<table border=\"1\" class=\"dataframe\">\n",
       "  <thead>\n",
       "    <tr style=\"text-align: right;\">\n",
       "      <th>magType</th>\n",
       "      <th>Mb</th>\n",
       "      <th>Md</th>\n",
       "      <th>mb</th>\n",
       "      <th>mb_lg</th>\n",
       "      <th>md</th>\n",
       "      <th>ml</th>\n",
       "      <th>ms_20</th>\n",
       "      <th>mw</th>\n",
       "      <th>mwb</th>\n",
       "      <th>mwp</th>\n",
       "      <th>mwr</th>\n",
       "      <th>mww</th>\n",
       "    </tr>\n",
       "    <tr>\n",
       "      <th>locationSource</th>\n",
       "      <th></th>\n",
       "      <th></th>\n",
       "      <th></th>\n",
       "      <th></th>\n",
       "      <th></th>\n",
       "      <th></th>\n",
       "      <th></th>\n",
       "      <th></th>\n",
       "      <th></th>\n",
       "      <th></th>\n",
       "      <th></th>\n",
       "      <th></th>\n",
       "    </tr>\n",
       "  </thead>\n",
       "  <tbody>\n",
       "    <tr>\n",
       "      <th>ak</th>\n",
       "      <td>NaN</td>\n",
       "      <td>NaN</td>\n",
       "      <td>NaN</td>\n",
       "      <td>NaN</td>\n",
       "      <td>NaN</td>\n",
       "      <td>221</td>\n",
       "      <td>NaN</td>\n",
       "      <td>NaN</td>\n",
       "      <td>NaN</td>\n",
       "      <td>NaN</td>\n",
       "      <td>NaN</td>\n",
       "      <td>NaN</td>\n",
       "    </tr>\n",
       "    <tr>\n",
       "      <th>car</th>\n",
       "      <td>NaN</td>\n",
       "      <td>NaN</td>\n",
       "      <td>NaN</td>\n",
       "      <td>NaN</td>\n",
       "      <td>NaN</td>\n",
       "      <td>NaN</td>\n",
       "      <td>NaN</td>\n",
       "      <td>NaN</td>\n",
       "      <td>NaN</td>\n",
       "      <td>NaN</td>\n",
       "      <td>1</td>\n",
       "      <td>NaN</td>\n",
       "    </tr>\n",
       "    <tr>\n",
       "      <th>ci</th>\n",
       "      <td>NaN</td>\n",
       "      <td>NaN</td>\n",
       "      <td>NaN</td>\n",
       "      <td>NaN</td>\n",
       "      <td>NaN</td>\n",
       "      <td>71</td>\n",
       "      <td>NaN</td>\n",
       "      <td>7</td>\n",
       "      <td>NaN</td>\n",
       "      <td>NaN</td>\n",
       "      <td>NaN</td>\n",
       "      <td>NaN</td>\n",
       "    </tr>\n",
       "    <tr>\n",
       "      <th>guc</th>\n",
       "      <td>NaN</td>\n",
       "      <td>NaN</td>\n",
       "      <td>6</td>\n",
       "      <td>NaN</td>\n",
       "      <td>NaN</td>\n",
       "      <td>2</td>\n",
       "      <td>NaN</td>\n",
       "      <td>NaN</td>\n",
       "      <td>NaN</td>\n",
       "      <td>NaN</td>\n",
       "      <td>NaN</td>\n",
       "      <td>NaN</td>\n",
       "    </tr>\n",
       "    <tr>\n",
       "      <th>hv</th>\n",
       "      <td>NaN</td>\n",
       "      <td>NaN</td>\n",
       "      <td>NaN</td>\n",
       "      <td>NaN</td>\n",
       "      <td>3</td>\n",
       "      <td>14</td>\n",
       "      <td>NaN</td>\n",
       "      <td>NaN</td>\n",
       "      <td>NaN</td>\n",
       "      <td>NaN</td>\n",
       "      <td>NaN</td>\n",
       "      <td>NaN</td>\n",
       "    </tr>\n",
       "    <tr>\n",
       "      <th>isk</th>\n",
       "      <td>NaN</td>\n",
       "      <td>NaN</td>\n",
       "      <td>NaN</td>\n",
       "      <td>NaN</td>\n",
       "      <td>NaN</td>\n",
       "      <td>NaN</td>\n",
       "      <td>NaN</td>\n",
       "      <td>NaN</td>\n",
       "      <td>NaN</td>\n",
       "      <td>NaN</td>\n",
       "      <td>1</td>\n",
       "      <td>NaN</td>\n",
       "    </tr>\n",
       "    <tr>\n",
       "      <th>ismp</th>\n",
       "      <td>NaN</td>\n",
       "      <td>NaN</td>\n",
       "      <td>NaN</td>\n",
       "      <td>NaN</td>\n",
       "      <td>NaN</td>\n",
       "      <td>1</td>\n",
       "      <td>NaN</td>\n",
       "      <td>NaN</td>\n",
       "      <td>NaN</td>\n",
       "      <td>NaN</td>\n",
       "      <td>NaN</td>\n",
       "      <td>NaN</td>\n",
       "    </tr>\n",
       "    <tr>\n",
       "      <th>ld</th>\n",
       "      <td>NaN</td>\n",
       "      <td>NaN</td>\n",
       "      <td>NaN</td>\n",
       "      <td>NaN</td>\n",
       "      <td>NaN</td>\n",
       "      <td>2</td>\n",
       "      <td>NaN</td>\n",
       "      <td>NaN</td>\n",
       "      <td>NaN</td>\n",
       "      <td>NaN</td>\n",
       "      <td>NaN</td>\n",
       "      <td>NaN</td>\n",
       "    </tr>\n",
       "    <tr>\n",
       "      <th>ldg</th>\n",
       "      <td>NaN</td>\n",
       "      <td>NaN</td>\n",
       "      <td>NaN</td>\n",
       "      <td>NaN</td>\n",
       "      <td>NaN</td>\n",
       "      <td>1</td>\n",
       "      <td>NaN</td>\n",
       "      <td>NaN</td>\n",
       "      <td>NaN</td>\n",
       "      <td>NaN</td>\n",
       "      <td>NaN</td>\n",
       "      <td>NaN</td>\n",
       "    </tr>\n",
       "    <tr>\n",
       "      <th>lim</th>\n",
       "      <td>NaN</td>\n",
       "      <td>NaN</td>\n",
       "      <td>1</td>\n",
       "      <td>NaN</td>\n",
       "      <td>NaN</td>\n",
       "      <td>NaN</td>\n",
       "      <td>NaN</td>\n",
       "      <td>NaN</td>\n",
       "      <td>NaN</td>\n",
       "      <td>NaN</td>\n",
       "      <td>NaN</td>\n",
       "      <td>NaN</td>\n",
       "    </tr>\n",
       "    <tr>\n",
       "      <th>mb</th>\n",
       "      <td>NaN</td>\n",
       "      <td>NaN</td>\n",
       "      <td>NaN</td>\n",
       "      <td>NaN</td>\n",
       "      <td>NaN</td>\n",
       "      <td>5</td>\n",
       "      <td>NaN</td>\n",
       "      <td>NaN</td>\n",
       "      <td>NaN</td>\n",
       "      <td>NaN</td>\n",
       "      <td>NaN</td>\n",
       "      <td>NaN</td>\n",
       "    </tr>\n",
       "    <tr>\n",
       "      <th>nc</th>\n",
       "      <td>NaN</td>\n",
       "      <td>NaN</td>\n",
       "      <td>NaN</td>\n",
       "      <td>NaN</td>\n",
       "      <td>15</td>\n",
       "      <td>11</td>\n",
       "      <td>NaN</td>\n",
       "      <td>3</td>\n",
       "      <td>NaN</td>\n",
       "      <td>NaN</td>\n",
       "      <td>NaN</td>\n",
       "      <td>NaN</td>\n",
       "    </tr>\n",
       "    <tr>\n",
       "      <th>nn</th>\n",
       "      <td>NaN</td>\n",
       "      <td>NaN</td>\n",
       "      <td>NaN</td>\n",
       "      <td>NaN</td>\n",
       "      <td>NaN</td>\n",
       "      <td>4</td>\n",
       "      <td>NaN</td>\n",
       "      <td>NaN</td>\n",
       "      <td>NaN</td>\n",
       "      <td>NaN</td>\n",
       "      <td>NaN</td>\n",
       "      <td>NaN</td>\n",
       "    </tr>\n",
       "    <tr>\n",
       "      <th>pgc</th>\n",
       "      <td>NaN</td>\n",
       "      <td>NaN</td>\n",
       "      <td>NaN</td>\n",
       "      <td>NaN</td>\n",
       "      <td>NaN</td>\n",
       "      <td>2</td>\n",
       "      <td>NaN</td>\n",
       "      <td>NaN</td>\n",
       "      <td>NaN</td>\n",
       "      <td>NaN</td>\n",
       "      <td>NaN</td>\n",
       "      <td>NaN</td>\n",
       "    </tr>\n",
       "    <tr>\n",
       "      <th>pr</th>\n",
       "      <td>1</td>\n",
       "      <td>148</td>\n",
       "      <td>NaN</td>\n",
       "      <td>NaN</td>\n",
       "      <td>NaN</td>\n",
       "      <td>NaN</td>\n",
       "      <td>NaN</td>\n",
       "      <td>NaN</td>\n",
       "      <td>NaN</td>\n",
       "      <td>NaN</td>\n",
       "      <td>NaN</td>\n",
       "      <td>NaN</td>\n",
       "    </tr>\n",
       "    <tr>\n",
       "      <th>rom</th>\n",
       "      <td>NaN</td>\n",
       "      <td>NaN</td>\n",
       "      <td>1</td>\n",
       "      <td>NaN</td>\n",
       "      <td>NaN</td>\n",
       "      <td>NaN</td>\n",
       "      <td>NaN</td>\n",
       "      <td>NaN</td>\n",
       "      <td>NaN</td>\n",
       "      <td>NaN</td>\n",
       "      <td>NaN</td>\n",
       "      <td>NaN</td>\n",
       "    </tr>\n",
       "    <tr>\n",
       "      <th>se</th>\n",
       "      <td>NaN</td>\n",
       "      <td>NaN</td>\n",
       "      <td>NaN</td>\n",
       "      <td>NaN</td>\n",
       "      <td>1</td>\n",
       "      <td>NaN</td>\n",
       "      <td>NaN</td>\n",
       "      <td>NaN</td>\n",
       "      <td>NaN</td>\n",
       "      <td>NaN</td>\n",
       "      <td>NaN</td>\n",
       "      <td>NaN</td>\n",
       "    </tr>\n",
       "    <tr>\n",
       "      <th>sko</th>\n",
       "      <td>NaN</td>\n",
       "      <td>NaN</td>\n",
       "      <td>NaN</td>\n",
       "      <td>NaN</td>\n",
       "      <td>NaN</td>\n",
       "      <td>1</td>\n",
       "      <td>NaN</td>\n",
       "      <td>NaN</td>\n",
       "      <td>NaN</td>\n",
       "      <td>NaN</td>\n",
       "      <td>NaN</td>\n",
       "      <td>NaN</td>\n",
       "    </tr>\n",
       "    <tr>\n",
       "      <th>tul</th>\n",
       "      <td>NaN</td>\n",
       "      <td>NaN</td>\n",
       "      <td>NaN</td>\n",
       "      <td>1</td>\n",
       "      <td>NaN</td>\n",
       "      <td>36</td>\n",
       "      <td>NaN</td>\n",
       "      <td>NaN</td>\n",
       "      <td>NaN</td>\n",
       "      <td>NaN</td>\n",
       "      <td>NaN</td>\n",
       "      <td>NaN</td>\n",
       "    </tr>\n",
       "    <tr>\n",
       "      <th>us</th>\n",
       "      <td>NaN</td>\n",
       "      <td>NaN</td>\n",
       "      <td>523</td>\n",
       "      <td>64</td>\n",
       "      <td>NaN</td>\n",
       "      <td>23</td>\n",
       "      <td>1</td>\n",
       "      <td>NaN</td>\n",
       "      <td>6</td>\n",
       "      <td>4</td>\n",
       "      <td>24</td>\n",
       "      <td>15</td>\n",
       "    </tr>\n",
       "    <tr>\n",
       "      <th>uu</th>\n",
       "      <td>NaN</td>\n",
       "      <td>NaN</td>\n",
       "      <td>NaN</td>\n",
       "      <td>NaN</td>\n",
       "      <td>NaN</td>\n",
       "      <td>10</td>\n",
       "      <td>NaN</td>\n",
       "      <td>NaN</td>\n",
       "      <td>NaN</td>\n",
       "      <td>NaN</td>\n",
       "      <td>NaN</td>\n",
       "      <td>NaN</td>\n",
       "    </tr>\n",
       "    <tr>\n",
       "      <th>uw</th>\n",
       "      <td>NaN</td>\n",
       "      <td>NaN</td>\n",
       "      <td>NaN</td>\n",
       "      <td>NaN</td>\n",
       "      <td>NaN</td>\n",
       "      <td>6</td>\n",
       "      <td>NaN</td>\n",
       "      <td>NaN</td>\n",
       "      <td>NaN</td>\n",
       "      <td>NaN</td>\n",
       "      <td>NaN</td>\n",
       "      <td>NaN</td>\n",
       "    </tr>\n",
       "  </tbody>\n",
       "</table>\n",
       "</div>"
      ],
      "text/plain": [
       "magType         Mb   Md   mb  mb_lg  md   ml  ms_20  mw  mwb  mwp  mwr  mww\n",
       "locationSource                                                             \n",
       "ak             NaN  NaN  NaN    NaN NaN  221    NaN NaN  NaN  NaN  NaN  NaN\n",
       "car            NaN  NaN  NaN    NaN NaN  NaN    NaN NaN  NaN  NaN    1  NaN\n",
       "ci             NaN  NaN  NaN    NaN NaN   71    NaN   7  NaN  NaN  NaN  NaN\n",
       "guc            NaN  NaN    6    NaN NaN    2    NaN NaN  NaN  NaN  NaN  NaN\n",
       "hv             NaN  NaN  NaN    NaN   3   14    NaN NaN  NaN  NaN  NaN  NaN\n",
       "isk            NaN  NaN  NaN    NaN NaN  NaN    NaN NaN  NaN  NaN    1  NaN\n",
       "ismp           NaN  NaN  NaN    NaN NaN    1    NaN NaN  NaN  NaN  NaN  NaN\n",
       "ld             NaN  NaN  NaN    NaN NaN    2    NaN NaN  NaN  NaN  NaN  NaN\n",
       "ldg            NaN  NaN  NaN    NaN NaN    1    NaN NaN  NaN  NaN  NaN  NaN\n",
       "lim            NaN  NaN    1    NaN NaN  NaN    NaN NaN  NaN  NaN  NaN  NaN\n",
       "mb             NaN  NaN  NaN    NaN NaN    5    NaN NaN  NaN  NaN  NaN  NaN\n",
       "nc             NaN  NaN  NaN    NaN  15   11    NaN   3  NaN  NaN  NaN  NaN\n",
       "nn             NaN  NaN  NaN    NaN NaN    4    NaN NaN  NaN  NaN  NaN  NaN\n",
       "pgc            NaN  NaN  NaN    NaN NaN    2    NaN NaN  NaN  NaN  NaN  NaN\n",
       "pr               1  148  NaN    NaN NaN  NaN    NaN NaN  NaN  NaN  NaN  NaN\n",
       "rom            NaN  NaN    1    NaN NaN  NaN    NaN NaN  NaN  NaN  NaN  NaN\n",
       "se             NaN  NaN  NaN    NaN   1  NaN    NaN NaN  NaN  NaN  NaN  NaN\n",
       "sko            NaN  NaN  NaN    NaN NaN    1    NaN NaN  NaN  NaN  NaN  NaN\n",
       "tul            NaN  NaN  NaN      1 NaN   36    NaN NaN  NaN  NaN  NaN  NaN\n",
       "us             NaN  NaN  523     64 NaN   23      1 NaN    6    4   24   15\n",
       "uu             NaN  NaN  NaN    NaN NaN   10    NaN NaN  NaN  NaN  NaN  NaN\n",
       "uw             NaN  NaN  NaN    NaN NaN    6    NaN NaN  NaN  NaN  NaN  NaN"
      ]
     },
     "execution_count": 9,
     "metadata": {},
     "output_type": "execute_result"
    }
   ],
   "source": [
    "# pv1 is the table which shows the relation between location sources and the type of earthquakes which have occured there\n",
    "pv1 = eq_df.pivot_table(index=\"locationSource\", columns=\"magType\", aggfunc=len, values = \"time\")\n",
    "pv1"
   ]
  },
  {
   "cell_type": "markdown",
   "metadata": {},
   "source": [
    "From the above table we can get information which type of earthquakes are most common. This will be determined by the count of each column above.\n"
   ]
  },
  {
   "cell_type": "code",
   "execution_count": 10,
   "metadata": {
    "collapsed": false
   },
   "outputs": [
    {
     "data": {
      "text/plain": [
       "magType\n",
       "Mb        1\n",
       "Md        1\n",
       "mb        4\n",
       "mb_lg     2\n",
       "md        3\n",
       "ml       16\n",
       "ms_20     1\n",
       "mw        2\n",
       "mwb       1\n",
       "mwp       1\n",
       "mwr       3\n",
       "mww       1\n",
       "dtype: int64"
      ]
     },
     "execution_count": 10,
     "metadata": {},
     "output_type": "execute_result"
    }
   ],
   "source": [
    "pv2 = pv1.count()\n",
    "pv2"
   ]
  },
  {
   "cell_type": "markdown",
   "metadata": {},
   "source": [
    "Similarly we can see the other parameters which can lead to interesting results. For each row, we can also get the range of data using `describe()` function"
   ]
  },
  {
   "cell_type": "code",
   "execution_count": 11,
   "metadata": {
    "collapsed": false
   },
   "outputs": [
    {
     "data": {
      "text/html": [
       "<div>\n",
       "<table border=\"1\" class=\"dataframe\">\n",
       "  <thead>\n",
       "    <tr style=\"text-align: right;\">\n",
       "      <th>magType</th>\n",
       "      <th>Mb</th>\n",
       "      <th>Md</th>\n",
       "      <th>mb</th>\n",
       "      <th>mb_lg</th>\n",
       "      <th>md</th>\n",
       "      <th>ml</th>\n",
       "      <th>ms_20</th>\n",
       "      <th>mw</th>\n",
       "      <th>mwb</th>\n",
       "      <th>mwp</th>\n",
       "      <th>mwr</th>\n",
       "      <th>mww</th>\n",
       "    </tr>\n",
       "  </thead>\n",
       "  <tbody>\n",
       "    <tr>\n",
       "      <th>count</th>\n",
       "      <td>1</td>\n",
       "      <td>1</td>\n",
       "      <td>4.000000</td>\n",
       "      <td>2.000000</td>\n",
       "      <td>3.000000</td>\n",
       "      <td>16.000000</td>\n",
       "      <td>1</td>\n",
       "      <td>2.000000</td>\n",
       "      <td>1</td>\n",
       "      <td>1</td>\n",
       "      <td>3.000000</td>\n",
       "      <td>1</td>\n",
       "    </tr>\n",
       "    <tr>\n",
       "      <th>mean</th>\n",
       "      <td>1</td>\n",
       "      <td>148</td>\n",
       "      <td>132.750000</td>\n",
       "      <td>32.500000</td>\n",
       "      <td>6.333333</td>\n",
       "      <td>25.625000</td>\n",
       "      <td>1</td>\n",
       "      <td>5.000000</td>\n",
       "      <td>6</td>\n",
       "      <td>4</td>\n",
       "      <td>8.666667</td>\n",
       "      <td>15</td>\n",
       "    </tr>\n",
       "    <tr>\n",
       "      <th>std</th>\n",
       "      <td>NaN</td>\n",
       "      <td>NaN</td>\n",
       "      <td>260.177343</td>\n",
       "      <td>44.547727</td>\n",
       "      <td>7.571878</td>\n",
       "      <td>55.202506</td>\n",
       "      <td>NaN</td>\n",
       "      <td>2.828427</td>\n",
       "      <td>NaN</td>\n",
       "      <td>NaN</td>\n",
       "      <td>13.279056</td>\n",
       "      <td>NaN</td>\n",
       "    </tr>\n",
       "    <tr>\n",
       "      <th>min</th>\n",
       "      <td>1</td>\n",
       "      <td>148</td>\n",
       "      <td>1.000000</td>\n",
       "      <td>1.000000</td>\n",
       "      <td>1.000000</td>\n",
       "      <td>1.000000</td>\n",
       "      <td>1</td>\n",
       "      <td>3.000000</td>\n",
       "      <td>6</td>\n",
       "      <td>4</td>\n",
       "      <td>1.000000</td>\n",
       "      <td>15</td>\n",
       "    </tr>\n",
       "    <tr>\n",
       "      <th>25%</th>\n",
       "      <td>1</td>\n",
       "      <td>148</td>\n",
       "      <td>1.000000</td>\n",
       "      <td>16.750000</td>\n",
       "      <td>2.000000</td>\n",
       "      <td>2.000000</td>\n",
       "      <td>1</td>\n",
       "      <td>4.000000</td>\n",
       "      <td>6</td>\n",
       "      <td>4</td>\n",
       "      <td>1.000000</td>\n",
       "      <td>15</td>\n",
       "    </tr>\n",
       "    <tr>\n",
       "      <th>50%</th>\n",
       "      <td>1</td>\n",
       "      <td>148</td>\n",
       "      <td>3.500000</td>\n",
       "      <td>32.500000</td>\n",
       "      <td>3.000000</td>\n",
       "      <td>5.500000</td>\n",
       "      <td>1</td>\n",
       "      <td>5.000000</td>\n",
       "      <td>6</td>\n",
       "      <td>4</td>\n",
       "      <td>1.000000</td>\n",
       "      <td>15</td>\n",
       "    </tr>\n",
       "    <tr>\n",
       "      <th>75%</th>\n",
       "      <td>1</td>\n",
       "      <td>148</td>\n",
       "      <td>135.250000</td>\n",
       "      <td>48.250000</td>\n",
       "      <td>9.000000</td>\n",
       "      <td>16.250000</td>\n",
       "      <td>1</td>\n",
       "      <td>6.000000</td>\n",
       "      <td>6</td>\n",
       "      <td>4</td>\n",
       "      <td>12.500000</td>\n",
       "      <td>15</td>\n",
       "    </tr>\n",
       "    <tr>\n",
       "      <th>max</th>\n",
       "      <td>1</td>\n",
       "      <td>148</td>\n",
       "      <td>523.000000</td>\n",
       "      <td>64.000000</td>\n",
       "      <td>15.000000</td>\n",
       "      <td>221.000000</td>\n",
       "      <td>1</td>\n",
       "      <td>7.000000</td>\n",
       "      <td>6</td>\n",
       "      <td>4</td>\n",
       "      <td>24.000000</td>\n",
       "      <td>15</td>\n",
       "    </tr>\n",
       "  </tbody>\n",
       "</table>\n",
       "</div>"
      ],
      "text/plain": [
       "magType  Mb   Md          mb      mb_lg         md          ml  ms_20  \\\n",
       "count     1    1    4.000000   2.000000   3.000000   16.000000      1   \n",
       "mean      1  148  132.750000  32.500000   6.333333   25.625000      1   \n",
       "std     NaN  NaN  260.177343  44.547727   7.571878   55.202506    NaN   \n",
       "min       1  148    1.000000   1.000000   1.000000    1.000000      1   \n",
       "25%       1  148    1.000000  16.750000   2.000000    2.000000      1   \n",
       "50%       1  148    3.500000  32.500000   3.000000    5.500000      1   \n",
       "75%       1  148  135.250000  48.250000   9.000000   16.250000      1   \n",
       "max       1  148  523.000000  64.000000  15.000000  221.000000      1   \n",
       "\n",
       "magType        mw  mwb  mwp        mwr  mww  \n",
       "count    2.000000    1    1   3.000000    1  \n",
       "mean     5.000000    6    4   8.666667   15  \n",
       "std      2.828427  NaN  NaN  13.279056  NaN  \n",
       "min      3.000000    6    4   1.000000   15  \n",
       "25%      4.000000    6    4   1.000000   15  \n",
       "50%      5.000000    6    4   1.000000   15  \n",
       "75%      6.000000    6    4  12.500000   15  \n",
       "max      7.000000    6    4  24.000000   15  "
      ]
     },
     "execution_count": 11,
     "metadata": {},
     "output_type": "execute_result"
    }
   ],
   "source": [
    "pv1.describe()"
   ]
  },
  {
   "cell_type": "markdown",
   "metadata": {},
   "source": [
    "<a id=\"plot_data\"></a> \n",
    "## 5. Plot the results\n",
    "\n",
    "Now, we show our results in a visual way by using the popular [`matplotlib`](http://matplotlib.org/) package to create plots.\n",
    "\n",
    "First, render the results as inline charts:"
   ]
  },
  {
   "cell_type": "code",
   "execution_count": 12,
   "metadata": {
    "collapsed": true
   },
   "outputs": [],
   "source": [
    "%matplotlib inline "
   ]
  },
  {
   "cell_type": "markdown",
   "metadata": {},
   "source": [
    "Now we'll plot a simple bar chart which shows the data graphically."
   ]
  },
  {
   "cell_type": "code",
   "execution_count": 13,
   "metadata": {
    "collapsed": false,
    "scrolled": true
   },
   "outputs": [
    {
     "data": {
      "image/png": "[encoded data removed]",
      "text/plain": [
       "<matplotlib.figure.Figure at 0x7efcbdda2dd0>"
      ]
     },
     "metadata": {},
     "output_type": "display_data"
    }
   ],
   "source": [
    "import matplotlib.pyplot as plt, numpy as np\n",
    "plot = pv2.plot(kind='bar')"
   ]
  },
  {
   "cell_type": "markdown",
   "metadata": {},
   "source": [
    "Similarly we can analyze the depth trends from the original table. This gives a view of how deep within the earth's crust the earthquakes are likely to occur."
   ]
  },
  {
   "cell_type": "code",
   "execution_count": 14,
   "metadata": {
    "collapsed": false
   },
   "outputs": [
    {
     "data": {
      "text/html": [
       "<div>\n",
       "<table border=\"1\" class=\"dataframe\">\n",
       "  <thead>\n",
       "    <tr style=\"text-align: right;\">\n",
       "      <th></th>\n",
       "      <th>depth</th>\n",
       "    </tr>\n",
       "  </thead>\n",
       "  <tbody>\n",
       "    <tr>\n",
       "      <th>count</th>\n",
       "      <td>1236.000000</td>\n",
       "    </tr>\n",
       "    <tr>\n",
       "      <th>mean</th>\n",
       "      <td>59.862103</td>\n",
       "    </tr>\n",
       "    <tr>\n",
       "      <th>std</th>\n",
       "      <td>111.566480</td>\n",
       "    </tr>\n",
       "    <tr>\n",
       "      <th>min</th>\n",
       "      <td>-2.000000</td>\n",
       "    </tr>\n",
       "    <tr>\n",
       "      <th>25%</th>\n",
       "      <td>10.000000</td>\n",
       "    </tr>\n",
       "    <tr>\n",
       "      <th>50%</th>\n",
       "      <td>19.050000</td>\n",
       "    </tr>\n",
       "    <tr>\n",
       "      <th>75%</th>\n",
       "      <td>58.050000</td>\n",
       "    </tr>\n",
       "    <tr>\n",
       "      <th>max</th>\n",
       "      <td>657.090000</td>\n",
       "    </tr>\n",
       "  </tbody>\n",
       "</table>\n",
       "</div>"
      ],
      "text/plain": [
       "             depth\n",
       "count  1236.000000\n",
       "mean     59.862103\n",
       "std     111.566480\n",
       "min      -2.000000\n",
       "25%      10.000000\n",
       "50%      19.050000\n",
       "75%      58.050000\n",
       "max     657.090000"
      ]
     },
     "execution_count": 14,
     "metadata": {},
     "output_type": "execute_result"
    }
   ],
   "source": [
    "\n",
    "new_table = eq_df[['depth','place','locationSource']]\n",
    "new_table.describe()\n"
   ]
  },
  {
   "cell_type": "code",
   "execution_count": 15,
   "metadata": {
    "collapsed": false
   },
   "outputs": [
    {
     "data": {
      "text/html": [
       "<div>\n",
       "<table border=\"1\" class=\"dataframe\">\n",
       "  <thead>\n",
       "    <tr style=\"text-align: right;\">\n",
       "      <th>locationSource</th>\n",
       "      <th>ak</th>\n",
       "      <th>car</th>\n",
       "      <th>ci</th>\n",
       "      <th>guc</th>\n",
       "      <th>hv</th>\n",
       "      <th>isk</th>\n",
       "      <th>ismp</th>\n",
       "      <th>ld</th>\n",
       "      <th>ldg</th>\n",
       "      <th>lim</th>\n",
       "      <th>...</th>\n",
       "      <th>nn</th>\n",
       "      <th>pgc</th>\n",
       "      <th>pr</th>\n",
       "      <th>rom</th>\n",
       "      <th>se</th>\n",
       "      <th>sko</th>\n",
       "      <th>tul</th>\n",
       "      <th>us</th>\n",
       "      <th>uu</th>\n",
       "      <th>uw</th>\n",
       "    </tr>\n",
       "    <tr>\n",
       "      <th>magType</th>\n",
       "      <th></th>\n",
       "      <th></th>\n",
       "      <th></th>\n",
       "      <th></th>\n",
       "      <th></th>\n",
       "      <th></th>\n",
       "      <th></th>\n",
       "      <th></th>\n",
       "      <th></th>\n",
       "      <th></th>\n",
       "      <th></th>\n",
       "      <th></th>\n",
       "      <th></th>\n",
       "      <th></th>\n",
       "      <th></th>\n",
       "      <th></th>\n",
       "      <th></th>\n",
       "      <th></th>\n",
       "      <th></th>\n",
       "      <th></th>\n",
       "      <th></th>\n",
       "    </tr>\n",
       "  </thead>\n",
       "  <tbody>\n",
       "    <tr>\n",
       "      <th>Mb</th>\n",
       "      <td>NaN</td>\n",
       "      <td>NaN</td>\n",
       "      <td>NaN</td>\n",
       "      <td>NaN</td>\n",
       "      <td>NaN</td>\n",
       "      <td>NaN</td>\n",
       "      <td>NaN</td>\n",
       "      <td>NaN</td>\n",
       "      <td>NaN</td>\n",
       "      <td>NaN</td>\n",
       "      <td>...</td>\n",
       "      <td>NaN</td>\n",
       "      <td>NaN</td>\n",
       "      <td>1</td>\n",
       "      <td>NaN</td>\n",
       "      <td>NaN</td>\n",
       "      <td>NaN</td>\n",
       "      <td>NaN</td>\n",
       "      <td>NaN</td>\n",
       "      <td>NaN</td>\n",
       "      <td>NaN</td>\n",
       "    </tr>\n",
       "    <tr>\n",
       "      <th>Md</th>\n",
       "      <td>NaN</td>\n",
       "      <td>NaN</td>\n",
       "      <td>NaN</td>\n",
       "      <td>NaN</td>\n",
       "      <td>NaN</td>\n",
       "      <td>NaN</td>\n",
       "      <td>NaN</td>\n",
       "      <td>NaN</td>\n",
       "      <td>NaN</td>\n",
       "      <td>NaN</td>\n",
       "      <td>...</td>\n",
       "      <td>NaN</td>\n",
       "      <td>NaN</td>\n",
       "      <td>148</td>\n",
       "      <td>NaN</td>\n",
       "      <td>NaN</td>\n",
       "      <td>NaN</td>\n",
       "      <td>NaN</td>\n",
       "      <td>NaN</td>\n",
       "      <td>NaN</td>\n",
       "      <td>NaN</td>\n",
       "    </tr>\n",
       "    <tr>\n",
       "      <th>mb</th>\n",
       "      <td>NaN</td>\n",
       "      <td>NaN</td>\n",
       "      <td>NaN</td>\n",
       "      <td>6</td>\n",
       "      <td>NaN</td>\n",
       "      <td>NaN</td>\n",
       "      <td>NaN</td>\n",
       "      <td>NaN</td>\n",
       "      <td>NaN</td>\n",
       "      <td>1</td>\n",
       "      <td>...</td>\n",
       "      <td>NaN</td>\n",
       "      <td>NaN</td>\n",
       "      <td>NaN</td>\n",
       "      <td>1</td>\n",
       "      <td>NaN</td>\n",
       "      <td>NaN</td>\n",
       "      <td>NaN</td>\n",
       "      <td>523</td>\n",
       "      <td>NaN</td>\n",
       "      <td>NaN</td>\n",
       "    </tr>\n",
       "    <tr>\n",
       "      <th>mb_lg</th>\n",
       "      <td>NaN</td>\n",
       "      <td>NaN</td>\n",
       "      <td>NaN</td>\n",
       "      <td>NaN</td>\n",
       "      <td>NaN</td>\n",
       "      <td>NaN</td>\n",
       "      <td>NaN</td>\n",
       "      <td>NaN</td>\n",
       "      <td>NaN</td>\n",
       "      <td>NaN</td>\n",
       "      <td>...</td>\n",
       "      <td>NaN</td>\n",
       "      <td>NaN</td>\n",
       "      <td>NaN</td>\n",
       "      <td>NaN</td>\n",
       "      <td>NaN</td>\n",
       "      <td>NaN</td>\n",
       "      <td>1</td>\n",
       "      <td>64</td>\n",
       "      <td>NaN</td>\n",
       "      <td>NaN</td>\n",
       "    </tr>\n",
       "    <tr>\n",
       "      <th>md</th>\n",
       "      <td>NaN</td>\n",
       "      <td>NaN</td>\n",
       "      <td>NaN</td>\n",
       "      <td>NaN</td>\n",
       "      <td>3</td>\n",
       "      <td>NaN</td>\n",
       "      <td>NaN</td>\n",
       "      <td>NaN</td>\n",
       "      <td>NaN</td>\n",
       "      <td>NaN</td>\n",
       "      <td>...</td>\n",
       "      <td>NaN</td>\n",
       "      <td>NaN</td>\n",
       "      <td>NaN</td>\n",
       "      <td>NaN</td>\n",
       "      <td>1</td>\n",
       "      <td>NaN</td>\n",
       "      <td>NaN</td>\n",
       "      <td>NaN</td>\n",
       "      <td>NaN</td>\n",
       "      <td>NaN</td>\n",
       "    </tr>\n",
       "    <tr>\n",
       "      <th>ml</th>\n",
       "      <td>221</td>\n",
       "      <td>NaN</td>\n",
       "      <td>71</td>\n",
       "      <td>2</td>\n",
       "      <td>14</td>\n",
       "      <td>NaN</td>\n",
       "      <td>1</td>\n",
       "      <td>2</td>\n",
       "      <td>1</td>\n",
       "      <td>NaN</td>\n",
       "      <td>...</td>\n",
       "      <td>4</td>\n",
       "      <td>2</td>\n",
       "      <td>NaN</td>\n",
       "      <td>NaN</td>\n",
       "      <td>NaN</td>\n",
       "      <td>1</td>\n",
       "      <td>36</td>\n",
       "      <td>23</td>\n",
       "      <td>10</td>\n",
       "      <td>6</td>\n",
       "    </tr>\n",
       "    <tr>\n",
       "      <th>ms_20</th>\n",
       "      <td>NaN</td>\n",
       "      <td>NaN</td>\n",
       "      <td>NaN</td>\n",
       "      <td>NaN</td>\n",
       "      <td>NaN</td>\n",
       "      <td>NaN</td>\n",
       "      <td>NaN</td>\n",
       "      <td>NaN</td>\n",
       "      <td>NaN</td>\n",
       "      <td>NaN</td>\n",
       "      <td>...</td>\n",
       "      <td>NaN</td>\n",
       "      <td>NaN</td>\n",
       "      <td>NaN</td>\n",
       "      <td>NaN</td>\n",
       "      <td>NaN</td>\n",
       "      <td>NaN</td>\n",
       "      <td>NaN</td>\n",
       "      <td>1</td>\n",
       "      <td>NaN</td>\n",
       "      <td>NaN</td>\n",
       "    </tr>\n",
       "    <tr>\n",
       "      <th>mw</th>\n",
       "      <td>NaN</td>\n",
       "      <td>NaN</td>\n",
       "      <td>7</td>\n",
       "      <td>NaN</td>\n",
       "      <td>NaN</td>\n",
       "      <td>NaN</td>\n",
       "      <td>NaN</td>\n",
       "      <td>NaN</td>\n",
       "      <td>NaN</td>\n",
       "      <td>NaN</td>\n",
       "      <td>...</td>\n",
       "      <td>NaN</td>\n",
       "      <td>NaN</td>\n",
       "      <td>NaN</td>\n",
       "      <td>NaN</td>\n",
       "      <td>NaN</td>\n",
       "      <td>NaN</td>\n",
       "      <td>NaN</td>\n",
       "      <td>NaN</td>\n",
       "      <td>NaN</td>\n",
       "      <td>NaN</td>\n",
       "    </tr>\n",
       "    <tr>\n",
       "      <th>mwb</th>\n",
       "      <td>NaN</td>\n",
       "      <td>NaN</td>\n",
       "      <td>NaN</td>\n",
       "      <td>NaN</td>\n",
       "      <td>NaN</td>\n",
       "      <td>NaN</td>\n",
       "      <td>NaN</td>\n",
       "      <td>NaN</td>\n",
       "      <td>NaN</td>\n",
       "      <td>NaN</td>\n",
       "      <td>...</td>\n",
       "      <td>NaN</td>\n",
       "      <td>NaN</td>\n",
       "      <td>NaN</td>\n",
       "      <td>NaN</td>\n",
       "      <td>NaN</td>\n",
       "      <td>NaN</td>\n",
       "      <td>NaN</td>\n",
       "      <td>6</td>\n",
       "      <td>NaN</td>\n",
       "      <td>NaN</td>\n",
       "    </tr>\n",
       "    <tr>\n",
       "      <th>mwp</th>\n",
       "      <td>NaN</td>\n",
       "      <td>NaN</td>\n",
       "      <td>NaN</td>\n",
       "      <td>NaN</td>\n",
       "      <td>NaN</td>\n",
       "      <td>NaN</td>\n",
       "      <td>NaN</td>\n",
       "      <td>NaN</td>\n",
       "      <td>NaN</td>\n",
       "      <td>NaN</td>\n",
       "      <td>...</td>\n",
       "      <td>NaN</td>\n",
       "      <td>NaN</td>\n",
       "      <td>NaN</td>\n",
       "      <td>NaN</td>\n",
       "      <td>NaN</td>\n",
       "      <td>NaN</td>\n",
       "      <td>NaN</td>\n",
       "      <td>4</td>\n",
       "      <td>NaN</td>\n",
       "      <td>NaN</td>\n",
       "    </tr>\n",
       "    <tr>\n",
       "      <th>mwr</th>\n",
       "      <td>NaN</td>\n",
       "      <td>1</td>\n",
       "      <td>NaN</td>\n",
       "      <td>NaN</td>\n",
       "      <td>NaN</td>\n",
       "      <td>1</td>\n",
       "      <td>NaN</td>\n",
       "      <td>NaN</td>\n",
       "      <td>NaN</td>\n",
       "      <td>NaN</td>\n",
       "      <td>...</td>\n",
       "      <td>NaN</td>\n",
       "      <td>NaN</td>\n",
       "      <td>NaN</td>\n",
       "      <td>NaN</td>\n",
       "      <td>NaN</td>\n",
       "      <td>NaN</td>\n",
       "      <td>NaN</td>\n",
       "      <td>24</td>\n",
       "      <td>NaN</td>\n",
       "      <td>NaN</td>\n",
       "    </tr>\n",
       "    <tr>\n",
       "      <th>mww</th>\n",
       "      <td>NaN</td>\n",
       "      <td>NaN</td>\n",
       "      <td>NaN</td>\n",
       "      <td>NaN</td>\n",
       "      <td>NaN</td>\n",
       "      <td>NaN</td>\n",
       "      <td>NaN</td>\n",
       "      <td>NaN</td>\n",
       "      <td>NaN</td>\n",
       "      <td>NaN</td>\n",
       "      <td>...</td>\n",
       "      <td>NaN</td>\n",
       "      <td>NaN</td>\n",
       "      <td>NaN</td>\n",
       "      <td>NaN</td>\n",
       "      <td>NaN</td>\n",
       "      <td>NaN</td>\n",
       "      <td>NaN</td>\n",
       "      <td>15</td>\n",
       "      <td>NaN</td>\n",
       "      <td>NaN</td>\n",
       "    </tr>\n",
       "  </tbody>\n",
       "</table>\n",
       "<p>12 rows × 22 columns</p>\n",
       "</div>"
      ],
      "text/plain": [
       "locationSource   ak  car  ci  guc  hv  isk  ismp  ld  ldg  lim ...  nn  pgc  \\\n",
       "magType                                                        ...            \n",
       "Mb              NaN  NaN NaN  NaN NaN  NaN   NaN NaN  NaN  NaN ... NaN  NaN   \n",
       "Md              NaN  NaN NaN  NaN NaN  NaN   NaN NaN  NaN  NaN ... NaN  NaN   \n",
       "mb              NaN  NaN NaN    6 NaN  NaN   NaN NaN  NaN    1 ... NaN  NaN   \n",
       "mb_lg           NaN  NaN NaN  NaN NaN  NaN   NaN NaN  NaN  NaN ... NaN  NaN   \n",
       "md              NaN  NaN NaN  NaN   3  NaN   NaN NaN  NaN  NaN ... NaN  NaN   \n",
       "ml              221  NaN  71    2  14  NaN     1   2    1  NaN ...   4    2   \n",
       "ms_20           NaN  NaN NaN  NaN NaN  NaN   NaN NaN  NaN  NaN ... NaN  NaN   \n",
       "mw              NaN  NaN   7  NaN NaN  NaN   NaN NaN  NaN  NaN ... NaN  NaN   \n",
       "mwb             NaN  NaN NaN  NaN NaN  NaN   NaN NaN  NaN  NaN ... NaN  NaN   \n",
       "mwp             NaN  NaN NaN  NaN NaN  NaN   NaN NaN  NaN  NaN ... NaN  NaN   \n",
       "mwr             NaN    1 NaN  NaN NaN    1   NaN NaN  NaN  NaN ... NaN  NaN   \n",
       "mww             NaN  NaN NaN  NaN NaN  NaN   NaN NaN  NaN  NaN ... NaN  NaN   \n",
       "\n",
       "locationSource   pr  rom  se  sko  tul   us  uu  uw  \n",
       "magType                                              \n",
       "Mb                1  NaN NaN  NaN  NaN  NaN NaN NaN  \n",
       "Md              148  NaN NaN  NaN  NaN  NaN NaN NaN  \n",
       "mb              NaN    1 NaN  NaN  NaN  523 NaN NaN  \n",
       "mb_lg           NaN  NaN NaN  NaN    1   64 NaN NaN  \n",
       "md              NaN  NaN   1  NaN  NaN  NaN NaN NaN  \n",
       "ml              NaN  NaN NaN    1   36   23  10   6  \n",
       "ms_20           NaN  NaN NaN  NaN  NaN    1 NaN NaN  \n",
       "mw              NaN  NaN NaN  NaN  NaN  NaN NaN NaN  \n",
       "mwb             NaN  NaN NaN  NaN  NaN    6 NaN NaN  \n",
       "mwp             NaN  NaN NaN  NaN  NaN    4 NaN NaN  \n",
       "mwr             NaN  NaN NaN  NaN  NaN   24 NaN NaN  \n",
       "mww             NaN  NaN NaN  NaN  NaN   15 NaN NaN  \n",
       "\n",
       "[12 rows x 22 columns]"
      ]
     },
     "execution_count": 15,
     "metadata": {},
     "output_type": "execute_result"
    }
   ],
   "source": [
    "pv3 = eq_df.pivot_table(index=\"magType\", columns=\"locationSource\", aggfunc=len, values = \"time\")\n",
    "pv3"
   ]
  },
  {
   "cell_type": "code",
   "execution_count": 16,
   "metadata": {
    "collapsed": false
   },
   "outputs": [
    {
     "data": {
      "text/plain": [
       "locationSource\n",
       "ak      221\n",
       "car       1\n",
       "ci       78\n",
       "guc       8\n",
       "hv       17\n",
       "isk       1\n",
       "ismp      1\n",
       "ld        2\n",
       "ldg       1\n",
       "lim       1\n",
       "mb        5\n",
       "nc       29\n",
       "nn        4\n",
       "pgc       2\n",
       "pr      149\n",
       "rom       1\n",
       "se        1\n",
       "sko       1\n",
       "tul      37\n",
       "us      660\n",
       "uu       10\n",
       "uw        6\n",
       "dtype: float64"
      ]
     },
     "execution_count": 16,
     "metadata": {},
     "output_type": "execute_result"
    }
   ],
   "source": [
    "pv3.sum()"
   ]
  },
  {
   "cell_type": "code",
   "execution_count": 17,
   "metadata": {
    "collapsed": false
   },
   "outputs": [
    {
     "data": {
      "text/plain": [
       "<matplotlib.axes._subplots.AxesSubplot at 0x7efcb8932310>"
      ]
     },
     "execution_count": 17,
     "metadata": {},
     "output_type": "execute_result"
    },
    {
     "data": {
      "image/png": "[encoded data removed]",
      "text/plain": [
       "<matplotlib.figure.Figure at 0x7efcb8904d50>"
      ]
     },
     "metadata": {},
     "output_type": "display_data"
    }
   ],
   "source": [
    "pv3.sum().plot(kind='bar')"
   ]
  },
  {
   "cell_type": "markdown",
   "metadata": {},
   "source": [
    "Now we'll use hadoop for better analysis of this data and larger implications lying therein. We'll start by creating RDD first."
   ]
  },
  {
   "cell_type": "markdown",
   "metadata": {},
   "source": [
    "<a id=\"access_data\"></a>\n",
    "## Access data\n",
    "Before we can access data in the data file in Object Storage by using the [`SparkContext`](https://spark.apache.org/docs/1.6.0/api/python/pyspark.html#pyspark.SparkContext) object, you must set the Hadoop configuration by using the following configuration function:"
   ]
  },
  {
   "cell_type": "code",
   "execution_count": 22,
   "metadata": {
    "collapsed": false
   },
   "outputs": [
    {
     "name": "stdout",
     "output_type": "stream",
     "text": [
      "\n"
     ]
    }
   ],
   "source": [
    "def set_hadoop_config(credentials):\n",
    "    prefix = \"fs.swift.service.\" + credentials['name'] \n",
    "    hconf = sc._jsc.hadoopConfiguration()\n",
    "    hconf.set(prefix + \".auth.url\", credentials['auth_url']+'/v3/auth/tokens')\n",
    "    hconf.set(prefix + \".auth.endpoint.prefix\", \"endpoints\")\n",
    "    hconf.set(prefix + \".tenant\", credentials['project_id'])\n",
    "    hconf.set(prefix + \".username\", credentials['user_id'])\n",
    "    hconf.set(prefix + \".password\", credentials['password'])\n",
    "    hconf.setInt(prefix + \".http.port\", 8080)\n",
    "    hconf.set(prefix + \".region\", credentials['region'])\n",
    "    hconf.setBoolean(prefix + \".public\", True)"
   ]
  },
  {
   "cell_type": "markdown",
   "metadata": {},
   "source": [
    "Add the credentials to access the csv file in the next code cell by using the `Insert to code` function below the CSV file in the **Data Source** panel. \n",
    "\n",
    "Adjust the credentials in the Python dictionary, which is prepared for you, to correspond with the credentials inserted by the `Insert to code` function and run the dictionary code cell. The access credentials to the Object Storage instance in the dictionary are provided for convenience for later usage. \n"
   ]
  },
  {
   "cell_type": "code",
   "execution_count": 24,
   "metadata": {
    "collapsed": true
   },
   "outputs": [],
   "source": [
    "credentials = {\n",
    "  'auth_url':'https://identity.open.softlayer.com',\n",
    "  'project':'object_storage_41f1070d_fa61_404e_b265_7d781be12baa',\n",
    "  'project_id':'78a47228e2b4426fbea2b45d8b8aa251',\n",
    "  'region':'dallas',\n",
    "  'user_id':'22bc4cbc5f944fc8a2b2a923c3d2ecf1',\n",
    "  'domain_id':'87c803acc1ec4e2b9bdd3ebdd1985070',\n",
    "  'domain_name':'1137929',\n",
    "  'username':'admin_d383b654798c1d12cc25831aa441deafb53932ad',\n",
    "  'password':\"\"\"Tc=3I3lBPngASO~T\"\"\",\n",
    "  'filename':'2Parking_Violations_Issued_-_Fiscal_Year_2017.csv',\n",
    "  'container':'notebooks',\n",
    "  'tenantId':'sd94-1c59561b715ce4-09a5d9fc31f5'\n",
    "}"
   ]
  },
  {
   "cell_type": "code",
   "execution_count": 25,
   "metadata": {
    "collapsed": true
   },
   "outputs": [],
   "source": [
    "credentials['name'] = 'keystone'\n",
    "set_hadoop_config(credentials)"
   ]
  },
  {
   "cell_type": "markdown",
   "metadata": {},
   "source": [
    "Now we can access the data by using the preconfigured `SparkContext` function in your notebook. \n",
    "\n",
    "First create a resilient distributed dataset ([`RDD`](https://spark.apache.org/docs/1.6.0/programming-guide.html#resilient-distributed-datasets-rdds)) of the raw data file. You can refer to it by using a URI of the form:\n",
    "\n",
    "```\n",
    "swift://container_name.name/object_name\n",
    "```\n",
    "\n",
    "If you didn't define a container name, at the time you created the Object Storage instance, the default container name that is used is `notebooks`. In this case, you can run the next code cell as it stands. Otherwise, change the container name. For `name` insert the Hadoop configuration name you defined, for example, `keystone`."
   ]
  },
  {
   "cell_type": "code",
   "execution_count": 26,
   "metadata": {
    "collapsed": true
   },
   "outputs": [],
   "source": [
    "equake = sc.textFile(\"swift://notebooks.keystone/eq.csv\")"
   ]
  },
  {
   "cell_type": "markdown",
   "metadata": {},
   "source": [
    "The RDD just created is a collection of strings corresponding to the individual lines in the raw data file. It is also important to remember that the RDD is defined but not instantiated. By applying an action like `count` to the RDD, you effectively instantiate the RDD."
   ]
  },
  {
   "cell_type": "code",
   "execution_count": 27,
   "metadata": {
    "collapsed": false
   },
   "outputs": [
    {
     "name": "stdout",
     "output_type": "stream",
     "text": [
      "Total records in the eq.csv dataset: 1237\n"
     ]
    }
   ],
   "source": [
    "print \"Total records in the eq.csv dataset:\", equake.count()"
   ]
  },
  {
   "cell_type": "markdown",
   "metadata": {},
   "source": [
    "Apply another action to the same RDD that reads the first row of the data."
   ]
  },
  {
   "cell_type": "code",
   "execution_count": 28,
   "metadata": {
    "collapsed": false
   },
   "outputs": [
    {
     "name": "stdout",
     "output_type": "stream",
     "text": [
      "The first five rows in the dataset: [u'time,latitude,longitude,depth,mag,magType,nst,gap,dmin,rms,net,id,updated,place,type,horizontalError,depthError,magError,magNst,status,locationSource,magSource', u'2016-10-12T17:55:00.830Z,19.1669998,-155.5379944,0.65,2.65,ml,52,90,0.07265,0.34,hv,hv61441641,2016-10-12T18:00:43.100Z,\"7km SW of Pahala, Hawaii\",earthquake,0.43,0.21,0.23,12,automatic,hv,hv', u'2016-10-12T14:11:21.000Z,63.5892,-147.7044,1.4,3,ml,,,,0.82,ak,ak14199369,2016-10-12T15:08:36.810Z,\"65km ENE of Cantwell, Alaska\",earthquake,0.3,0.3,,,automatic,ak,ak', u'2016-10-12T10:39:23.000Z,18.9745,-64.4385,14,2.6,Mb,6,316.8,0.57941336,0.18,pr,pr16286002,2016-10-12T12:29:46.735Z,\"64km NNE of Road Town, British Virgin Islands\",earthquake,2,2.5,0,5,reviewed,pr,pr', u'2016-10-12T10:39:15.770Z,10.726,144.7752,21.06,5.1,mb,,50,2.847,0.99,us,us20007dd3,2016-10-12T10:55:58.040Z,\"238km N of Faraulep, Micronesia\",earthquake,6.4,5.7,0.059,92,reviewed,us,us']\n"
     ]
    }
   ],
   "source": [
    "# Use take method to display a few lines from the table\n",
    "print \"The first five rows in the dataset:\", parking.take(5)"
   ]
  },
  {
   "cell_type": "markdown",
   "metadata": {},
   "source": [
    "<a id=\"parse_data\"></a>\n",
    "## Parse data"
   ]
  },
  {
   "cell_type": "markdown",
   "metadata": {},
   "source": [
    "The data now needs to be parsed into columns. We'll use lambda functions in Python for this.\n",
    "\n",
    "The lambda notation in Python is used to create anonymous functions, in other words, functions which are not bound to a name. This concept is used in the previous code cell to pass a function as a parameter to the `map` function. The anonymous function receives each line from the `weather` RDD  and splits it at comma boundaries. As a result, the new `weatherParse` RDD is defined as a list of lists. Each list in `weatherParse` corresponds to a line in `weather`, and the strings in each list are the individual elements of the row."
   ]
  },
  {
   "cell_type": "code",
   "execution_count": 38,
   "metadata": {
    "collapsed": true
   },
   "outputs": [],
   "source": [
    "equakeParse = equake.map(lambda line : line.split(\",\"))"
   ]
  },
  {
   "cell_type": "markdown",
   "metadata": {},
   "source": [
    "Run the next cell for a quick look at the first line of the list."
   ]
  },
  {
   "cell_type": "code",
   "execution_count": 39,
   "metadata": {
    "collapsed": false
   },
   "outputs": [
    {
     "data": {
      "text/plain": [
       "[u'time',\n",
       " u'latitude',\n",
       " u'longitude',\n",
       " u'depth',\n",
       " u'mag',\n",
       " u'magType',\n",
       " u'nst',\n",
       " u'gap',\n",
       " u'dmin',\n",
       " u'rms',\n",
       " u'net',\n",
       " u'id',\n",
       " u'updated',\n",
       " u'place',\n",
       " u'type',\n",
       " u'horizontalError',\n",
       " u'depthError',\n",
       " u'magError',\n",
       " u'magNst',\n",
       " u'status',\n",
       " u'locationSource',\n",
       " u'magSource']"
      ]
     },
     "execution_count": 39,
     "metadata": {},
     "output_type": "execute_result"
    }
   ],
   "source": [
    "equakeParse.first()"
   ]
  },
  {
   "cell_type": "markdown",
   "metadata": {},
   "source": [
    "<a id=\"explore_data\"></a>\n",
    "## Explore data\n",
    "To better consume the earthquake data, it has to be converted or mapped from one raw form into another format.\n"
   ]
  },
  {
   "cell_type": "markdown",
   "metadata": {},
   "source": [
    "To look at the earthquakes with magnitude type \"ml\", we'll filter the data using the lambda function."
   ]
  },
  {
   "cell_type": "code",
   "execution_count": 31,
   "metadata": {
    "collapsed": false
   },
   "outputs": [
    {
     "data": {
      "text/plain": [
       "[[u'2016-10-12T17:55:00.830Z',\n",
       "  u'19.1669998',\n",
       "  u'-155.5379944',\n",
       "  u'0.65',\n",
       "  u'2.65',\n",
       "  u'ml',\n",
       "  u'52',\n",
       "  u'90',\n",
       "  u'0.07265',\n",
       "  u'0.34',\n",
       "  u'hv',\n",
       "  u'hv61441641',\n",
       "  u'2016-10-12T18:00:43.100Z',\n",
       "  u'\"7km SW of Pahala',\n",
       "  u' Hawaii\"',\n",
       "  u'earthquake',\n",
       "  u'0.43',\n",
       "  u'0.21',\n",
       "  u'0.23',\n",
       "  u'12',\n",
       "  u'automatic',\n",
       "  u'hv',\n",
       "  u'hv'],\n",
       " [u'2016-10-12T14:11:21.000Z',\n",
       "  u'63.5892',\n",
       "  u'-147.7044',\n",
       "  u'1.4',\n",
       "  u'3',\n",
       "  u'ml',\n",
       "  u'',\n",
       "  u'',\n",
       "  u'',\n",
       "  u'0.82',\n",
       "  u'ak',\n",
       "  u'ak14199369',\n",
       "  u'2016-10-12T15:08:36.810Z',\n",
       "  u'\"65km ENE of Cantwell',\n",
       "  u' Alaska\"',\n",
       "  u'earthquake',\n",
       "  u'0.3',\n",
       "  u'0.3',\n",
       "  u'',\n",
       "  u'',\n",
       "  u'automatic',\n",
       "  u'ak',\n",
       "  u'ak']]"
      ]
     },
     "execution_count": 31,
     "metadata": {},
     "output_type": "execute_result"
    }
   ],
   "source": [
    "equakeMake = equakeParse.filter(lambda x: x[5] == \"ml\") # All rows where magType is \"ml\"\n",
    "equakeMake.take(2)"
   ]
  },
  {
   "cell_type": "code",
   "execution_count": 33,
   "metadata": {
    "collapsed": false
   },
   "outputs": [
    {
     "name": "stdout",
     "output_type": "stream",
     "text": [
      "Number of earthquakes with magType 'ml' are:  410\n"
     ]
    }
   ],
   "source": [
    "print \"Number of earthquakes with magType 'ml' are: \", equakeMake.count()"
   ]
  },
  {
   "cell_type": "markdown",
   "metadata": {},
   "source": [
    "We'll use this RDD to perform map and reduce functions to find out average magnitude of earthquakes across locations. \n",
    "- We'll first use the map function to see as per magnitude which places had an earthquake\n",
    "- Then we reduce by adding the magnitudes together\n",
    "- Then we find out the average"
   ]
  },
  {
   "cell_type": "code",
   "execution_count": 88,
   "metadata": {
    "collapsed": true
   },
   "outputs": [],
   "source": [
    "# x[21] is the locationSource\n",
    "# x[4] is the magnitude\n",
    "equakeMakeCountByKey = equakeMake.map(lambda x : (x[21], (float(x[4]),1)))"
   ]
  },
  {
   "cell_type": "code",
   "execution_count": 82,
   "metadata": {
    "collapsed": false
   },
   "outputs": [
    {
     "data": {
      "text/plain": [
       "[(u'hv', (2.65, 1)),\n",
       " (u'ak', (3.0, 1)),\n",
       " (u'ak', (2.6, 1)),\n",
       " (u'ak', (2.5, 1)),\n",
       " (u'ak', (3.9, 1)),\n",
       " (u'tul', (2.8, 1)),\n",
       " (u'ak', (2.9, 1)),\n",
       " (u'ak', (3.2, 1)),\n",
       " (u'hv', (2.54, 1)),\n",
       " (u'ak', (2.5, 1))]"
      ]
     },
     "execution_count": 82,
     "metadata": {},
     "output_type": "execute_result"
    }
   ],
   "source": [
    "equakeMakeCountByKey.take(10)"
   ]
  },
  {
   "cell_type": "code",
   "execution_count": 83,
   "metadata": {
    "collapsed": true
   },
   "outputs": [],
   "source": [
    "equakeMakeCountByKey = equakeMakeCountByKey.reduceByKey(lambda v1,v2 : (v1[0]+v2[0], v1[1]+v2[1]))"
   ]
  },
  {
   "cell_type": "code",
   "execution_count": 84,
   "metadata": {
    "collapsed": false
   },
   "outputs": [
    {
     "data": {
      "text/plain": [
       "[(u'guc', (8.3, 2)),\n",
       " (u'ci', (170.68, 60)),\n",
       " (u'ldg', (3.8, 1)),\n",
       " (u'nn', (11.600000000000001, 4)),\n",
       " (u'uu', (26.490000000000002, 10)),\n",
       " (u'ak', (644.3000000000001, 221)),\n",
       " (u'hv', (40.71, 14)),\n",
       " (u'ld', (5.21, 2)),\n",
       " (u'us', (71.5, 23)),\n",
       " (u'tul', (101.69999999999999, 36)),\n",
       " (u'sko', (3.1, 1)),\n",
       " (u'uw', (16.99, 6)),\n",
       " (u'reviewed', (31.79, 11)),\n",
       " (u'nc', (33.15, 11)),\n",
       " (u'ismp', (2.65, 1)),\n",
       " (u'pgc', (7.2, 2)),\n",
       " (u'mb', (13.45, 5))]"
      ]
     },
     "execution_count": 84,
     "metadata": {},
     "output_type": "execute_result"
    }
   ],
   "source": [
    "equakeMakeCountByKey.take(20)"
   ]
  },
  {
   "cell_type": "code",
   "execution_count": 85,
   "metadata": {
    "collapsed": true
   },
   "outputs": [],
   "source": [
    "equakeAverages = equakeMakeCountByKey.map(lambda k: (k[0], k[1][0] / float(k[1][1] ) ) )"
   ]
  },
  {
   "cell_type": "code",
   "execution_count": 87,
   "metadata": {
    "collapsed": false
   },
   "outputs": [
    {
     "data": {
      "text/plain": [
       "[(u'guc', 4.15),\n",
       " (u'ci', 2.844666666666667),\n",
       " (u'ldg', 3.8),\n",
       " (u'nn', 2.9000000000000004),\n",
       " (u'uu', 2.649),\n",
       " (u'ak', 2.9153846153846157),\n",
       " (u'hv', 2.907857142857143),\n",
       " (u'ld', 2.605),\n",
       " (u'us', 3.108695652173913),\n",
       " (u'tul', 2.8249999999999997),\n",
       " (u'sko', 3.1),\n",
       " (u'uw', 2.8316666666666666),\n",
       " (u'nc', 3.0136363636363637),\n",
       " (u'ismp', 2.65),\n",
       " (u'pgc', 3.6),\n",
       " (u'reviewed', 2.89),\n",
       " (u'mb', 2.69)]"
      ]
     },
     "execution_count": 87,
     "metadata": {},
     "output_type": "execute_result"
    }
   ],
   "source": [
    "equakeAverages.take(20)"
   ]
  },
  {
   "cell_type": "code",
   "execution_count": 92,
   "metadata": {
    "collapsed": false
   },
   "outputs": [
    {
     "name": "stdout",
     "output_type": "stream",
     "text": [
      "Place guc had average earthquake magnitude of 4.150000\n",
      "Place ldg had average earthquake magnitude of 3.800000\n",
      "Place pgc had average earthquake magnitude of 3.600000\n",
      "Place us had average earthquake magnitude of 3.108696\n",
      "Place sko had average earthquake magnitude of 3.100000\n",
      "Place nc had average earthquake magnitude of 3.013636\n",
      "Place ak had average earthquake magnitude of 2.915385\n",
      "Place hv had average earthquake magnitude of 2.907857\n",
      "Place nn had average earthquake magnitude of 2.900000\n",
      "Place reviewed had average earthquake magnitude of 2.890000\n"
     ]
    }
   ],
   "source": [
    "eqTop10=[]\n",
    "eqmagTop10=[]\n",
    "for pair in equakeAverages.map(lambda (x,y) : (y,x)).top(10):\n",
    "    eqTop10.append(pair[0])\n",
    "    eqmagTop10.append(pair[1])\n",
    "    print \"Place %s had average earthquake magnitude of %f\" % (pair[1],pair[0])"
   ]
  },
  {
   "cell_type": "code",
   "execution_count": 96,
   "metadata": {
    "collapsed": false
   },
   "outputs": [
    {
     "data": {
      "image/png": "[encoded data removed]",
      "text/plain": [
       "<matplotlib.figure.Figure at 0x7efcb39182d0>"
      ]
     },
     "metadata": {},
     "output_type": "display_data"
    }
   ],
   "source": [
    "%matplotlib inline\n",
    "import numpy as np\n",
    "import matplotlib.pyplot as plt\n",
    "\n",
    "N = 10\n",
    "index = np.arange(N)  \n",
    "bar_width = 0.5\n",
    "\n",
    "plt.bar(index, eqTop10, bar_width,\n",
    "                 color='b')\n",
    "plt.xlabel('Place')\n",
    "plt.ylabel('Earthwuake Magnitude')\n",
    "plt.title('10 places with the highest average earthquake impacts under \"ml\" category')\n",
    "plt.xticks(index + bar_width, eqmagTop10, rotation=90)\n",
    "plt.show()"
   ]
  }
 ],
 "metadata": {
  "anaconda-cloud": {},
  "kernelspec": {
   "display_name": "Python 2 with Spark 1.6",
   "language": "python",
   "name": "python2"
  },
  "language_info": {
   "codemirror_mode": {
    "name": "ipython",
    "version": 2
   },
   "file_extension": ".py",
   "mimetype": "text/x-python",
   "name": "python",
   "nbconvert_exporter": "python",
   "pygments_lexer": "ipython2",
   "version": "2.7.11"
  }
 },
 "nbformat": 4,
 "nbformat_minor": 0
}